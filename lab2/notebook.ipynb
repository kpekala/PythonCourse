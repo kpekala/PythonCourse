{
 "cells": [
  {
   "cell_type": "markdown",
   "metadata": {},
   "source": [
    "## Zadanie 1"
   ]
  },
  {
   "cell_type": "code",
   "execution_count": 3,
   "metadata": {},
   "outputs": [],
   "source": [
    "import string"
   ]
  },
  {
   "cell_type": "code",
   "execution_count": 4,
   "metadata": {},
   "outputs": [],
   "source": [
    "VAR = string.ascii_lowercase\n",
    "OP = \"&|>\"\n",
    "\n",
    "def check(expr):\n",
    "    state = True\n",
    "    bracket_counter = 0\n",
    "    for c in expr:\n",
    "        if state:\n",
    "            if c in \")\" + OP:\n",
    "                return False\n",
    "            if c in VAR:\n",
    "                state = False\n",
    "        else:\n",
    "            if c in \"(\"+VAR:\n",
    "                return False\n",
    "            if c in OP:\n",
    "                state = True\n",
    "        if c == \"(\":\n",
    "            bracket_counter += 1\n",
    "        elif c == \")\":\n",
    "            bracket_counter -= 1\n",
    "            if bracket_counter < 0:\n",
    "                return False\n",
    "    return bracket_counter == 0 and not state\n",
    "\n",
    "                \n",
    "    "
   ]
  },
  {
   "cell_type": "code",
   "execution_count": 9,
   "metadata": {},
   "outputs": [
    {
     "data": {
      "text/plain": [
       "True"
      ]
     },
     "execution_count": 9,
     "metadata": {},
     "output_type": "execute_result"
    }
   ],
   "source": [
    "check('a&c|c|c')"
   ]
  },
  {
   "cell_type": "markdown",
   "metadata": {},
   "source": [
    "## Zadanie 3"
   ]
  },
  {
   "cell_type": "code",
   "execution_count": 14,
   "metadata": {},
   "outputs": [],
   "source": [
    "def bal(expr, op):\n",
    "    bracket_counter = 0\n",
    "    for i in range(len(expr)-1,-1,-1):\n",
    "        if expr[i]==\"(\":\n",
    "            bracket_counter -= 1\n",
    "        if expr[i]==\")\":\n",
    "            bracket_counter += 1\n",
    "        if expr[i] in op and bracket_counter==0:\n",
    "            return i\n",
    "        return -1"
   ]
  },
  {
   "cell_type": "code",
   "execution_count": null,
   "metadata": {},
   "outputs": [],
   "source": []
  },
  {
   "cell_type": "markdown",
   "metadata": {},
   "source": [
    "## Zadanie 4"
   ]
  },
  {
   "cell_type": "code",
   "execution_count": 18,
   "metadata": {},
   "outputs": [],
   "source": [
    "def onp(expr):\n",
    "    while expr[0] == \"(\" and expr[-1] == \")\" and check(expr[1:-1]):\n",
    "        expr = expr[1:-1]\n",
    "        \n",
    "    p = bal(expr, \">\")\n",
    "    if p >= 0:\n",
    "        return onp(expr[:p]) + onp(expr[p+1:]) + expr[p]\n",
    "    \n",
    "    p = bal(expr, \"|&\")\n",
    "    print(p)\n",
    "    if p >= 0:\n",
    "        return onp(expr[:p]) + onp(expr[p+1:]) + expr[p]\n",
    "    \n",
    "    return expr"
   ]
  },
  {
   "cell_type": "code",
   "execution_count": 20,
   "metadata": {},
   "outputs": [
    {
     "name": "stdout",
     "output_type": "stream",
     "text": [
      "-1\n"
     ]
    },
    {
     "data": {
      "text/plain": [
       "'a|c'"
      ]
     },
     "execution_count": 20,
     "metadata": {},
     "output_type": "execute_result"
    }
   ],
   "source": [
    "onp(\"(a|c)\")"
   ]
  },
  {
   "cell_type": "code",
   "execution_count": 13,
   "metadata": {},
   "outputs": [
    {
     "data": {
      "text/plain": [
       "'(a|b)&(c|d)'"
      ]
     },
     "execution_count": 13,
     "metadata": {},
     "output_type": "execute_result"
    }
   ],
   "source": [
    "onp(\"(a|b)&(c|d)\")"
   ]
  },
  {
   "cell_type": "markdown",
   "metadata": {},
   "source": [
    "## Zadanie 5"
   ]
  },
  {
   "cell_type": "code",
   "execution_count": 24,
   "metadata": {},
   "outputs": [],
   "source": [
    "def map(expr, mapping):\n",
    "    m = \"\"\n",
    "    i = 0\n",
    "    for c in expr:\n",
    "        if c not in \"&^%|\":\n",
    "            m += mapping[i]\n",
    "            i+=1\n",
    "        else:\n",
    "            m += c\n",
    "    return m"
   ]
  },
  {
   "cell_type": "code",
   "execution_count": 25,
   "metadata": {},
   "outputs": [
    {
     "data": {
      "text/plain": [
       "'10|'"
      ]
     },
     "execution_count": 25,
     "metadata": {},
     "output_type": "execute_result"
    }
   ],
   "source": [
    "map(\"ab|\",\"10\")"
   ]
  },
  {
   "cell_type": "code",
   "execution_count": 26,
   "metadata": {},
   "outputs": [],
   "source": [
    "def generateSequences(n):\n",
    "    for zm in range(2**2):\n",
    "        yield bin(zm)[2:].rjust(m, \"0\")"
   ]
  },
  {
   "cell_type": "markdown",
   "metadata": {},
   "source": [
    "## Zadanie 7"
   ]
  },
  {
   "cell_type": "code",
   "execution_count": 31,
   "metadata": {},
   "outputs": [],
   "source": [
    "def val(expr):\n",
    "    stack = []\n",
    "    for char in expr:\n",
    "        if char in \"01\":\n",
    "            stack.append(int(char))\n",
    "        elif char == \">\":\n",
    "            stack.append((1-stack.pop()) | stack.pop())\n",
    "        elif char == \"&\":\n",
    "            stack.append(stack.pop() & stack.pop())\n",
    "        elif char == \"|\":\n",
    "            stack.append(stack.pop() | stack.pop())\n",
    "    return stack[0]"
   ]
  },
  {
   "cell_type": "code",
   "execution_count": 32,
   "metadata": {},
   "outputs": [
    {
     "data": {
      "text/plain": [
       "0"
      ]
     },
     "execution_count": 32,
     "metadata": {},
     "output_type": "execute_result"
    }
   ],
   "source": [
    "val(\"10&\")"
   ]
  },
  {
   "cell_type": "code",
   "execution_count": 33,
   "metadata": {},
   "outputs": [
    {
     "data": {
      "text/plain": [
       "1"
      ]
     },
     "execution_count": 33,
     "metadata": {},
     "output_type": "execute_result"
    }
   ],
   "source": [
    "val(\"10>\")"
   ]
  }
 ],
 "metadata": {
  "kernelspec": {
   "display_name": "Python 3",
   "language": "python",
   "name": "python3"
  },
  "language_info": {
   "codemirror_mode": {
    "name": "ipython",
    "version": 3
   },
   "file_extension": ".py",
   "mimetype": "text/x-python",
   "name": "python",
   "nbconvert_exporter": "python",
   "pygments_lexer": "ipython3",
   "version": "3.8.5"
  }
 },
 "nbformat": 4,
 "nbformat_minor": 4
}
